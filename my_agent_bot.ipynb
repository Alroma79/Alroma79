{
  "nbformat": 4,
  "nbformat_minor": 0,
  "metadata": {
    "colab": {
      "provenance": [],
      "authorship_tag": "ABX9TyN8LfFDNAr9eXbyTqM2i3vd",
      "include_colab_link": true
    },
    "kernelspec": {
      "name": "python3",
      "display_name": "Python 3"
    },
    "language_info": {
      "name": "python"
    }
  },
  "cells": [
    {
      "cell_type": "markdown",
      "metadata": {
        "id": "view-in-github",
        "colab_type": "text"
      },
      "source": [
        "<a href=\"https://colab.research.google.com/github/Alroma79/Alroma79/blob/main/my_agent_bot.ipynb\" target=\"_parent\"><img src=\"https://colab.research.google.com/assets/colab-badge.svg\" alt=\"Open In Colab\"/></a>"
      ]
    },
    {
      "cell_type": "code",
      "execution_count": null,
      "metadata": {
        "id": "mk_iiVNh40uQ"
      },
      "outputs": [],
      "source": [
        "import chainlit as cl\n",
        "from langchain.callbacks.base import BaseCallbackHandler\n",
        "from langchain.chains import LLMChain\n",
        "from langchain.memory import ConversationBufferMemory\n",
        "from langchain_community.llms import Ollama\n",
        "from langchain_core.prompts import PromptTemplate\n",
        "\n",
        "\n",
        "class StreamHandler(BaseCallbackHandler):\n",
        "    def __init__(self):\n",
        "        self.msg = cl.Message(content=\"\")\n",
        "\n",
        "    async def on_llm_new_token(self, token: str, **kwargs):\n",
        "        await self.msg.stream_token(token)\n",
        "\n",
        "    async def on_llm_end(self, response: str, **kwargs):\n",
        "        await self.msg.send()\n",
        "        self.msg = cl.Message(content=\"\")\n",
        "\n",
        "\n",
        "# Load DeepSeek model using Ollama\n",
        "llm = Ollama(\n",
        "    model=\"deepseek-r1:1.5b\",  # You can switch to deepseek-r1:14b or another version\n",
        "    temperature=0.7,\n",
        "    )\n",
        "\n",
        "template = \"\"\"\n",
        "[INST] <<SYS>>\n",
        "You are a helpful, respectful, and honest AI tutor.\n",
        "Always provide clear and concise answers using the following context:\n",
        "{context}\n",
        "<</SYS>>\n",
        "User:\n",
        "{instruction}[/INST]\"\"\"\n",
        "\n",
        "prompt = PromptTemplate(template=template, input_variables=[\"context\", \"instruction\"])\n",
        "\n",
        "\n",
        "@cl.on_chat_start\n",
        "def on_chat_start():\n",
        "    memory = ConversationBufferMemory(memory_key=\"context\")\n",
        "    llm_chain = LLMChain(prompt=prompt, llm=llm, verbose=False, memory=memory)\n",
        "    cl.user_session.set(\"llm_chain\", llm_chain)\n",
        "\n",
        "\n",
        "@cl.on_message\n",
        "async def on_message(message: cl.Message):\n",
        "    llm_chain = cl.user_session.get(\"llm_chain\")\n",
        "\n",
        "    await llm_chain.ainvoke(\n",
        "        message.content,\n",
        "        config={\"callbacks\": [cl.AsyncLangchainCallbackHandler(), StreamHandler()]},\n",
        "    )\n"
      ]
    }
  ]
}